{
 "cells": [
  {
   "cell_type": "code",
   "execution_count": 1,
   "metadata": {},
   "outputs": [
    {
     "name": "stdout",
     "output_type": "stream",
     "text": [
      "Requirement already satisfied: seaborn in /Users/poojashingavi/anaconda3/lib/python3.7/site-packages (0.9.0)\n",
      "Requirement already satisfied: scipy>=0.14.0 in /Users/poojashingavi/anaconda3/lib/python3.7/site-packages (from seaborn) (1.3.1)\n",
      "Requirement already satisfied: pandas>=0.15.2 in /Users/poojashingavi/anaconda3/lib/python3.7/site-packages (from seaborn) (0.25.1)\n",
      "Requirement already satisfied: numpy>=1.9.3 in /Users/poojashingavi/anaconda3/lib/python3.7/site-packages (from seaborn) (1.17.2)\n",
      "Requirement already satisfied: matplotlib>=1.4.3 in /Users/poojashingavi/anaconda3/lib/python3.7/site-packages (from seaborn) (3.0.2)\n",
      "Requirement already satisfied: pytz>=2017.2 in /Users/poojashingavi/anaconda3/lib/python3.7/site-packages (from pandas>=0.15.2->seaborn) (2018.7)\n",
      "Requirement already satisfied: python-dateutil>=2.6.1 in /Users/poojashingavi/anaconda3/lib/python3.7/site-packages (from pandas>=0.15.2->seaborn) (2.7.5)\n",
      "Requirement already satisfied: cycler>=0.10 in /Users/poojashingavi/anaconda3/lib/python3.7/site-packages (from matplotlib>=1.4.3->seaborn) (0.10.0)\n",
      "Requirement already satisfied: kiwisolver>=1.0.1 in /Users/poojashingavi/anaconda3/lib/python3.7/site-packages (from matplotlib>=1.4.3->seaborn) (1.0.1)\n",
      "Requirement already satisfied: pyparsing!=2.0.4,!=2.1.2,!=2.1.6,>=2.0.1 in /Users/poojashingavi/anaconda3/lib/python3.7/site-packages (from matplotlib>=1.4.3->seaborn) (2.3.0)\n",
      "Requirement already satisfied: six>=1.5 in /Users/poojashingavi/anaconda3/lib/python3.7/site-packages (from python-dateutil>=2.6.1->pandas>=0.15.2->seaborn) (1.12.0)\n",
      "Requirement already satisfied: setuptools in /Users/poojashingavi/anaconda3/lib/python3.7/site-packages (from kiwisolver>=1.0.1->matplotlib>=1.4.3->seaborn) (40.6.3)\n"
     ]
    }
   ],
   "source": [
    "import sys\n",
    "!{sys.executable} -m pip install seaborn"
   ]
  },
  {
   "cell_type": "code",
   "execution_count": 73,
   "metadata": {},
   "outputs": [],
   "source": [
    "import numpy as np\n",
    "import pandas as pd\n",
    "from sklearn.tree import DecisionTreeClassifier\n",
    "from sklearn.ensemble import RandomForestClassifier\n",
    "from sklearn.ensemble import VotingClassifier\n",
    "from sklearn.neighbors import KNeighborsClassifier\n",
    "import seaborn as sns\n",
    "import matplotlib.pyplot as plt\n",
    "from sklearn.ensemble import ExtraTreesClassifier\n",
    "from sklearn import svm\n",
    "from sklearn.linear_model import LogisticRegression\n",
    "from sklearn.naive_bayes import GaussianNB\n",
    "from sklearn import preprocessing"
   ]
  },
  {
   "cell_type": "code",
   "execution_count": 74,
   "metadata": {},
   "outputs": [],
   "source": [
    "def read_file(path):\n",
    "    df = pd.read_csv(path, header=None)\n",
    "    #print(df.head())\n",
    "    return df"
   ]
  },
  {
   "cell_type": "code",
   "execution_count": 75,
   "metadata": {},
   "outputs": [
    {
     "name": "stdout",
     "output_type": "stream",
     "text": [
      "(418, 100)\n",
      "(418, 1)\n",
      "(418, 100)\n"
     ]
    },
    {
     "data": {
      "text/html": [
       "<div>\n",
       "<style scoped>\n",
       "    .dataframe tbody tr th:only-of-type {\n",
       "        vertical-align: middle;\n",
       "    }\n",
       "\n",
       "    .dataframe tbody tr th {\n",
       "        vertical-align: top;\n",
       "    }\n",
       "\n",
       "    .dataframe thead th {\n",
       "        text-align: right;\n",
       "    }\n",
       "</style>\n",
       "<table border=\"1\" class=\"dataframe\">\n",
       "  <thead>\n",
       "    <tr style=\"text-align: right;\">\n",
       "      <th></th>\n",
       "      <th>1</th>\n",
       "      <th>2</th>\n",
       "      <th>3</th>\n",
       "      <th>4</th>\n",
       "      <th>5</th>\n",
       "      <th>6</th>\n",
       "      <th>7</th>\n",
       "      <th>8</th>\n",
       "      <th>9</th>\n",
       "      <th>10</th>\n",
       "      <th>...</th>\n",
       "      <th>91</th>\n",
       "      <th>92</th>\n",
       "      <th>93</th>\n",
       "      <th>94</th>\n",
       "      <th>95</th>\n",
       "      <th>96</th>\n",
       "      <th>97</th>\n",
       "      <th>98</th>\n",
       "      <th>99</th>\n",
       "      <th>100</th>\n",
       "    </tr>\n",
       "  </thead>\n",
       "  <tbody>\n",
       "    <tr>\n",
       "      <td>0</td>\n",
       "      <td>-2.144100e+08</td>\n",
       "      <td>6.156483e+06</td>\n",
       "      <td>-40009.082892</td>\n",
       "      <td>-106798.867900</td>\n",
       "      <td>-22075.865011</td>\n",
       "      <td>-131.213147</td>\n",
       "      <td>-42677.883959</td>\n",
       "      <td>-1345.726290</td>\n",
       "      <td>-2139.740820</td>\n",
       "      <td>1252.082560</td>\n",
       "      <td>...</td>\n",
       "      <td>-0.004107</td>\n",
       "      <td>-0.002644</td>\n",
       "      <td>0.000573</td>\n",
       "      <td>0.004455</td>\n",
       "      <td>0.000742</td>\n",
       "      <td>0.000251</td>\n",
       "      <td>0.010003</td>\n",
       "      <td>-0.002461</td>\n",
       "      <td>0.000007</td>\n",
       "      <td>-0.001208</td>\n",
       "    </tr>\n",
       "    <tr>\n",
       "      <td>1</td>\n",
       "      <td>8.887227e+08</td>\n",
       "      <td>-5.697653e+06</td>\n",
       "      <td>-324635.044684</td>\n",
       "      <td>-14581.236920</td>\n",
       "      <td>33604.433584</td>\n",
       "      <td>-6616.477948</td>\n",
       "      <td>-62974.019123</td>\n",
       "      <td>5014.299745</td>\n",
       "      <td>-5103.807233</td>\n",
       "      <td>2853.937468</td>\n",
       "      <td>...</td>\n",
       "      <td>0.004792</td>\n",
       "      <td>-0.005321</td>\n",
       "      <td>0.006356</td>\n",
       "      <td>0.020417</td>\n",
       "      <td>0.003568</td>\n",
       "      <td>0.003092</td>\n",
       "      <td>0.004354</td>\n",
       "      <td>0.000841</td>\n",
       "      <td>0.006413</td>\n",
       "      <td>-0.002123</td>\n",
       "    </tr>\n",
       "    <tr>\n",
       "      <td>2</td>\n",
       "      <td>-1.834045e+09</td>\n",
       "      <td>2.012896e+06</td>\n",
       "      <td>-57575.076362</td>\n",
       "      <td>-77453.550531</td>\n",
       "      <td>48550.957817</td>\n",
       "      <td>3423.537938</td>\n",
       "      <td>-22131.213006</td>\n",
       "      <td>462.895476</td>\n",
       "      <td>2560.000549</td>\n",
       "      <td>-2431.303783</td>\n",
       "      <td>...</td>\n",
       "      <td>-0.009077</td>\n",
       "      <td>0.004042</td>\n",
       "      <td>-0.002609</td>\n",
       "      <td>-0.008480</td>\n",
       "      <td>-0.002297</td>\n",
       "      <td>0.000568</td>\n",
       "      <td>-0.002650</td>\n",
       "      <td>0.001871</td>\n",
       "      <td>0.004263</td>\n",
       "      <td>-0.009482</td>\n",
       "    </tr>\n",
       "    <tr>\n",
       "      <td>3</td>\n",
       "      <td>-6.040876e+08</td>\n",
       "      <td>1.452041e+06</td>\n",
       "      <td>-123277.765525</td>\n",
       "      <td>-66751.057836</td>\n",
       "      <td>35449.159821</td>\n",
       "      <td>1439.544188</td>\n",
       "      <td>-13681.724960</td>\n",
       "      <td>-2333.485201</td>\n",
       "      <td>-1307.836187</td>\n",
       "      <td>580.551951</td>\n",
       "      <td>...</td>\n",
       "      <td>0.000050</td>\n",
       "      <td>-0.001723</td>\n",
       "      <td>-0.003022</td>\n",
       "      <td>-0.002693</td>\n",
       "      <td>0.001505</td>\n",
       "      <td>-0.000686</td>\n",
       "      <td>-0.002552</td>\n",
       "      <td>-0.003826</td>\n",
       "      <td>-0.005397</td>\n",
       "      <td>-0.003756</td>\n",
       "    </tr>\n",
       "    <tr>\n",
       "      <td>4</td>\n",
       "      <td>5.274843e+07</td>\n",
       "      <td>-4.289884e+06</td>\n",
       "      <td>-255502.310414</td>\n",
       "      <td>-31562.412055</td>\n",
       "      <td>49142.084861</td>\n",
       "      <td>358.703139</td>\n",
       "      <td>25320.387579</td>\n",
       "      <td>-5583.576500</td>\n",
       "      <td>-2432.435069</td>\n",
       "      <td>1759.132287</td>\n",
       "      <td>...</td>\n",
       "      <td>-0.005462</td>\n",
       "      <td>-0.004288</td>\n",
       "      <td>-0.000728</td>\n",
       "      <td>0.001797</td>\n",
       "      <td>0.002756</td>\n",
       "      <td>0.001359</td>\n",
       "      <td>0.004625</td>\n",
       "      <td>-0.002706</td>\n",
       "      <td>0.003057</td>\n",
       "      <td>-0.002346</td>\n",
       "    </tr>\n",
       "  </tbody>\n",
       "</table>\n",
       "<p>5 rows × 100 columns</p>\n",
       "</div>"
      ],
      "text/plain": [
       "            1             2              3              4             5    \\\n",
       "0 -2.144100e+08  6.156483e+06  -40009.082892 -106798.867900 -22075.865011   \n",
       "1  8.887227e+08 -5.697653e+06 -324635.044684  -14581.236920  33604.433584   \n",
       "2 -1.834045e+09  2.012896e+06  -57575.076362  -77453.550531  48550.957817   \n",
       "3 -6.040876e+08  1.452041e+06 -123277.765525  -66751.057836  35449.159821   \n",
       "4  5.274843e+07 -4.289884e+06 -255502.310414  -31562.412055  49142.084861   \n",
       "\n",
       "           6             7            8            9            10   ...  \\\n",
       "0  -131.213147 -42677.883959 -1345.726290 -2139.740820  1252.082560  ...   \n",
       "1 -6616.477948 -62974.019123  5014.299745 -5103.807233  2853.937468  ...   \n",
       "2  3423.537938 -22131.213006   462.895476  2560.000549 -2431.303783  ...   \n",
       "3  1439.544188 -13681.724960 -2333.485201 -1307.836187   580.551951  ...   \n",
       "4   358.703139  25320.387579 -5583.576500 -2432.435069  1759.132287  ...   \n",
       "\n",
       "        91        92        93        94        95        96        97   \\\n",
       "0 -0.004107 -0.002644  0.000573  0.004455  0.000742  0.000251  0.010003   \n",
       "1  0.004792 -0.005321  0.006356  0.020417  0.003568  0.003092  0.004354   \n",
       "2 -0.009077  0.004042 -0.002609 -0.008480 -0.002297  0.000568 -0.002650   \n",
       "3  0.000050 -0.001723 -0.003022 -0.002693  0.001505 -0.000686 -0.002552   \n",
       "4 -0.005462 -0.004288 -0.000728  0.001797  0.002756  0.001359  0.004625   \n",
       "\n",
       "        98        99        100  \n",
       "0 -0.002461  0.000007 -0.001208  \n",
       "1  0.000841  0.006413 -0.002123  \n",
       "2  0.001871  0.004263 -0.009482  \n",
       "3 -0.003826 -0.005397 -0.003756  \n",
       "4 -0.002706  0.003057 -0.002346  \n",
       "\n",
       "[5 rows x 100 columns]"
      ]
     },
     "execution_count": 75,
     "metadata": {},
     "output_type": "execute_result"
    }
   ],
   "source": [
    "X = read_file(\"../Data/train_features.csv\")\n",
    "X = X.drop(X.columns[[0]], axis=1) # delete first column as it is index\n",
    "print(X.shape)\n",
    "Y = read_file(\"../Data/train_label.csv\")\n",
    "Y = Y.drop(Y.columns[[0]], axis=1) # delete first column as it is index\n",
    "Y = Y.iloc[1:] # delete first row as it is a header\n",
    "#Y.head()\n",
    "print(Y.shape)\n",
    "# data = X\n",
    "# data.head()\n",
    "# data.insert(data.shape[1],data.shape[1]+1,Y)\n",
    "# print(data.shape)\n",
    "print(X.shape)\n",
    "X.head()"
   ]
  },
  {
   "cell_type": "code",
   "execution_count": 76,
   "metadata": {},
   "outputs": [],
   "source": [
    "###Normalize data\n",
    "\n",
    "# scaler = preprocessing.StandardScaler().fit(X)\n",
    "# X = scaler.transform(X)\n",
    "scaler = preprocessing.MinMaxScaler()\n",
    "X = scaler.fit_transform(X)\n"
   ]
  },
  {
   "cell_type": "markdown",
   "metadata": {},
   "source": [
    "Best Feature Selection try\n"
   ]
  },
  {
   "cell_type": "code",
   "execution_count": 437,
   "metadata": {},
   "outputs": [],
   "source": [
    "# print(X.shape)\n",
    "\n",
    "# # for i in range (0,X.shape[0]):\n",
    "# #     for j in range (0,X.shape[1]):\n",
    "# #         print(X[i][j])\n",
    "\n",
    "# # headers = list(X.columns.values)\n",
    "# # print(headers)\n",
    "\n",
    "\n",
    "# # for i in range(0, len(headers)):\n",
    "# #     print(X[headers[i]] > np.inf)\n",
    "    \n",
    "# X = X[~X.isin([np.nan, np.inf, -np.inf]).any(1)]\n",
    "# print(X.shape)\n",
    "\n",
    "# # Y = Y.iloc[1:]   # delete first row\n",
    "# print(\"ASDASDA\")\n",
    "# model = ExtraTreesClassifier()\n",
    "# model.fit(X,Y)\n",
    "\n",
    "# print(model.feature_importances_) #use inbuilt class feature_importances of tree based classifiers\n",
    "\n",
    "# remove_attb = []\n",
    "# for i in range(0, len(model.feature_importances_)):\n",
    "#     if model.feature_importances_[i] < 0.01:\n",
    "#         print(i)\n",
    "#         remove_attb.append(i)\n",
    "\n",
    "# #plot graph of feature importances for better visualization\n",
    "# feat_importances = pd.Series(model.feature_importances_, index=X.columns)\n",
    "# feat_importances.nlargest(20).plot(kind='barh')\n",
    "\n",
    "# plt.figure(figsize=(100,100))\n",
    "# plt.show()"
   ]
  },
  {
   "cell_type": "markdown",
   "metadata": {},
   "source": [
    "Remove attribute columns"
   ]
  },
  {
   "cell_type": "code",
   "execution_count": 438,
   "metadata": {},
   "outputs": [],
   "source": [
    "#X.drop(X.columns[remove_attb],axis=1,inplace=True)"
   ]
  },
  {
   "cell_type": "code",
   "execution_count": 439,
   "metadata": {},
   "outputs": [],
   "source": [
    "# corrmat = data.corr()\n",
    "# top_corr_features = corrmat.index\n",
    "# plt.figure(figsize=(40,10))\n",
    "# g=sns.heatmap(data[top_corr_features].corr(),annot=True,cmap=\"RdYlGn\", linewidths=.5)"
   ]
  },
  {
   "cell_type": "code",
   "execution_count": 77,
   "metadata": {},
   "outputs": [
    {
     "name": "stdout",
     "output_type": "stream",
     "text": [
      "(418, 100)\n"
     ]
    }
   ],
   "source": [
    "print(X.shape)\n",
    "clf0 = DecisionTreeClassifier(random_state=0, max_depth=2)\n",
    "# decision_tree = decision_tree.fit(X, Y)\n",
    "\n",
    "clf1 = RandomForestClassifier(n_estimators=20, max_depth=10,random_state=0)\n",
    "# rf.fit(X, Y)\n",
    "\n",
    "clf2 = KNeighborsClassifier(n_neighbors=3)\n",
    "# neigh.fit(X, Y)\n",
    "\n",
    "clf3 = svm.SVC(gamma='scale')\n",
    "# svm.fit(X, Y)\n",
    "\n",
    "clf4 = LogisticRegression(random_state=0, solver='lbfgs',multi_class='multinomial')\n",
    "# lg.fit(X,Y)\n",
    "\n",
    "clf5 = GaussianNB()\n",
    "# nb.fit(X,Y)\n"
   ]
  },
  {
   "cell_type": "code",
   "execution_count": 78,
   "metadata": {},
   "outputs": [],
   "source": [
    "test_features = read_file(\"../Data/test_features.csv\")\n",
    "test_features = test_features.drop(test_features.columns[[0]], axis=1) # delete first column as it is index\n",
    "test_features.head()\n",
    "\n",
    "##Normalioze test data\n",
    "test_features = scaler.transform(test_features)\n"
   ]
  },
  {
   "cell_type": "code",
   "execution_count": 79,
   "metadata": {},
   "outputs": [
    {
     "name": "stdout",
     "output_type": "stream",
     "text": [
      "['1' '1' '1' '1' '1' '1' '1' '1' '1' '1' '1' '1' '1' '0' '1' '1' '1' '1'\n",
      " '1' '1' '1' '1' '1' '1' '1' '0' '1' '0' '1' '1' '1' '1' '1' '1' '1' '1'\n",
      " '0' '0' '1' '1' '1' '0' '1' '1' '1' '1' '1' '1' '1' '0' '1' '1' '1' '1'\n",
      " '1' '1' '0' '1' '1' '1' '1' '1' '1' '1' '1' '0' '0' '1' '1' '1' '1' '1'\n",
      " '1' '1' '1' '1' '1' '1' '1' '1' '1' '1' '1' '1' '1' '1' '1' '0' '1' '1'\n",
      " '1' '1' '1' '1' '1' '0' '0' '1' '1' '1' '0' '1' '1' '1' '1' '1' '1' '1'\n",
      " '0' '1' '0' '1' '1' '1' '1' '1' '1' '0' '1' '1' '1' '1' '1' '1' '1' '1'\n",
      " '1' '1' '0' '1' '1' '1' '0' '0' '1' '1' '1' '0' '1' '1' '1' '1' '1' '1'\n",
      " '0' '1' '1' '1' '1' '1' '1' '1' '1' '0' '1' '1' '1' '1' '1' '1' '1' '1'\n",
      " '1' '1' '1' '0' '1' '1' '0' '0' '1' '1' '1' '1' '1' '1' '1' '0' '1' '0'\n",
      " '0' '1' '0' '1' '0' '1' '1' '1' '1' '1' '1' '1' '1' '1' '1' '1' '1' '1'\n",
      " '1' '1' '1' '1' '1' '1' '1' '1' '1' '1' '1' '1' '1' '1' '1' '0' '1' '1'\n",
      " '1' '1' '0' '1' '1' '1' '1' '1' '0' '1' '1' '1' '1' '1' '1' '1' '1' '1'\n",
      " '1' '1' '1' '1' '1' '1' '0' '1' '1' '1' '0' '1' '0' '1' '1' '1' '0' '1'\n",
      " '1' '1' '0' '1' '1' '1' '1' '1' '1' '1' '1' '1' '1' '1' '0' '0' '0' '1'\n",
      " '0' '1' '1' '0' '1' '1' '1' '1' '0' '1' '1' '1' '1' '1' '1' '1' '1' '1'\n",
      " '1' '1' '1' '1' '1' '1' '1' '1' '1' '1' '1' '0' '1' '1' '1' '1' '1' '0'\n",
      " '1' '1' '1' '1' '1' '1' '1' '1' '1' '1' '1' '1' '1' '1' '1' '1' '1' '1'\n",
      " '1' '1' '1' '1' '1' '0' '1' '1' '1' '1' '1' '1' '1' '1' '1' '1' '1' '1'\n",
      " '0' '1' '1' '1' '1' '1' '1' '1' '0' '1' '1' '1' '1' '1' '1' '1' '1' '0'\n",
      " '1' '1' '1' '1' '1' '1' '1' '1' '1' '1' '1' '1' '0' '1' '1' '1' '1' '1']\n"
     ]
    }
   ],
   "source": [
    "Y = np.ravel(Y)\n",
    "classifier = VotingClassifier(estimators=[('dt', clf0), ('rf', clf1), ('knn', clf2), ('lr', clf4)], voting='soft', weights=[1,2,1,1], flatten_transform=True)\n",
    "classifier.fit(X,Y)\n",
    "predictions = classifier.predict(test_features)\n",
    "print(predictions)\n",
    "\n",
    "#test_features.drop(test_features.columns[remove_attb],axis=1,inplace=True)\n",
    "# ans = decision_tree.predict(test_features)\n",
    "# ans1 = rf.predict(test_features)\n",
    "# ans2 = neigh.predict(test_features)\n",
    "# ans3 = clf.predict(test_features)\n",
    "# ans4 = lg.predict(test_features)\n",
    "# ans5 = nb.predict(test_features)\n",
    "#print(ans)\n",
    "#print(ans1)\n",
    "# print(ans4)\n",
    "# print(\"----\")\n",
    "# print(ans5)"
   ]
  },
  {
   "cell_type": "code",
   "execution_count": 13,
   "metadata": {},
   "outputs": [
    {
     "name": "stdout",
     "output_type": "stream",
     "text": [
      "[1, 1, 1, 1, 1, 1, 1, 1, 1, 1, 1, 1, 1, 0, 1, 1, 1, 1, 1, 1, 1, 1, 1, 1, 1, 0, 1, 0, 1, 1, 1, 1, 1, 1, 1, 1, 0, 0, 1, 1, 1, 0, 1, 1, 1, 1, 1, 1, 1, 1, 1, 1, 1, 1, 1, 1, 0, 1, 1, 1, 1, 1, 1, 1, 1, 1, 0, 1, 1, 1, 1, 1, 1, 1, 1, 1, 1, 1, 1, 1, 1, 1, 1, 1, 1, 1, 1, 0, 1, 1, 1, 1, 1, 1, 1, 0, 0, 1, 1, 1, 0, 1, 1, 1, 1, 1, 1, 1, 0, 1, 1, 1, 1, 1, 1, 1, 1, 0, 1, 1, 1, 1, 1, 1, 1, 1, 1, 1, 0, 1, 1, 1, 0, 0, 1, 1, 1, 0, 1, 1, 1, 1, 1, 1, 0, 1, 1, 1, 1, 1, 1, 1, 1, 0, 1, 1, 1, 1, 1, 1, 1, 1, 1, 1, 1, 0, 1, 1, 1, 0, 1, 1, 1, 1, 1, 1, 1, 0, 1, 0, 0, 1, 1, 1, 0, 1, 1, 1, 1, 1, 1, 1, 1, 1, 1, 1, 1, 1, 1, 1, 1, 1, 1, 1, 1, 1, 1, 1, 1, 1, 1, 1, 1, 1, 1, 1, 1, 1, 1, 1, 1, 1, 1, 1, 0, 1, 1, 1, 1, 1, 1, 1, 1, 1, 1, 1, 1, 1, 1, 1, 0, 1, 1, 1, 1, 1, 0, 1, 1, 1, 0, 1, 1, 1, 0, 1, 1, 1, 1, 1, 1, 1, 1, 1, 1, 1, 0, 0, 0, 1, 0, 1, 1, 0, 1, 1, 1, 1, 0, 1, 1, 0, 1, 1, 1, 1, 1, 1, 1, 1, 1, 1, 1, 1, 1, 1, 1, 1, 1, 0, 1, 1, 1, 1, 1, 0, 1, 1, 1, 1, 1, 1, 1, 1, 1, 1, 1, 1, 1, 1, 1, 1, 1, 1, 1, 1, 1, 1, 1, 0, 1, 1, 1, 1, 1, 1, 1, 1, 1, 1, 1, 1, 0, 1, 1, 1, 0, 1, 1, 1, 0, 1, 0, 1, 1, 1, 1, 1, 1, 0, 1, 1, 1, 1, 1, 1, 1, 1, 1, 1, 0, 1, 0, 1, 1, 1, 1, 1]\n"
     ]
    }
   ],
   "source": [
    "# boost = []\n",
    "\n",
    "# for i in range(0, len(ans)):\n",
    "#     ones = 0\n",
    "#     zeros = 0\n",
    "#     if int(ans[i]) == 1:\n",
    "#         ones += 1\n",
    "#     else:\n",
    "#         zeros += 1\n",
    "#     if int(ans1[i]) == 1:\n",
    "#         ones += 1\n",
    "#     else:\n",
    "#         zeros = 1   \n",
    "#     if int(ans2[i]) == 1:\n",
    "#         ones += 1\n",
    "#     else:\n",
    "#         zeros += 1\n",
    "#     if int(ans3[i]) == 1:\n",
    "#         ones += 1\n",
    "#     else:\n",
    "#         zeros += 1  \n",
    "#     if int(ans4[i]) == 1:\n",
    "#         ones += 1\n",
    "#     else:\n",
    "#         zeros += 1   \n",
    "#     if int(ans5[i]) == 1:\n",
    "#         ones += 1\n",
    "#     else:\n",
    "#         zeros += 1       \n",
    "#     if ones >= zeros:\n",
    "#         boost.append(1)\n",
    "#     else:\n",
    "#         boost.append(0)\n",
    "# print(boost)    "
   ]
  },
  {
   "cell_type": "code",
   "execution_count": 80,
   "metadata": {},
   "outputs": [
    {
     "data": {
      "text/html": [
       "<div>\n",
       "<style scoped>\n",
       "    .dataframe tbody tr th:only-of-type {\n",
       "        vertical-align: middle;\n",
       "    }\n",
       "\n",
       "    .dataframe tbody tr th {\n",
       "        vertical-align: top;\n",
       "    }\n",
       "\n",
       "    .dataframe thead th {\n",
       "        text-align: right;\n",
       "    }\n",
       "</style>\n",
       "<table border=\"1\" class=\"dataframe\">\n",
       "  <thead>\n",
       "    <tr style=\"text-align: right;\">\n",
       "      <th></th>\n",
       "      <th>id</th>\n",
       "      <th>label</th>\n",
       "    </tr>\n",
       "  </thead>\n",
       "  <tbody>\n",
       "    <tr>\n",
       "      <td>0</td>\n",
       "      <td>418</td>\n",
       "      <td>1</td>\n",
       "    </tr>\n",
       "    <tr>\n",
       "      <td>1</td>\n",
       "      <td>419</td>\n",
       "      <td>1</td>\n",
       "    </tr>\n",
       "    <tr>\n",
       "      <td>2</td>\n",
       "      <td>420</td>\n",
       "      <td>1</td>\n",
       "    </tr>\n",
       "    <tr>\n",
       "      <td>3</td>\n",
       "      <td>421</td>\n",
       "      <td>1</td>\n",
       "    </tr>\n",
       "    <tr>\n",
       "      <td>4</td>\n",
       "      <td>422</td>\n",
       "      <td>1</td>\n",
       "    </tr>\n",
       "  </tbody>\n",
       "</table>\n",
       "</div>"
      ],
      "text/plain": [
       "    id label\n",
       "0  418     1\n",
       "1  419     1\n",
       "2  420     1\n",
       "3  421     1\n",
       "4  422     1"
      ]
     },
     "execution_count": 80,
     "metadata": {},
     "output_type": "execute_result"
    }
   ],
   "source": [
    "df = pd.DataFrame(predictions, columns = ['label']) \n",
    "df.insert(0, 'id', range(418, 418 + len(df)))\n",
    "df.head()"
   ]
  },
  {
   "cell_type": "code",
   "execution_count": 81,
   "metadata": {},
   "outputs": [],
   "source": [
    "df.to_csv(\"sampleSubmission.csv\",mode = 'w', index=False)"
   ]
  },
  {
   "cell_type": "code",
   "execution_count": 56,
   "metadata": {},
   "outputs": [],
   "source": [
    "df_old = df"
   ]
  },
  {
   "cell_type": "code",
   "execution_count": 64,
   "metadata": {},
   "outputs": [
    {
     "ename": "ValueError",
     "evalue": "The truth value of a DataFrame is ambiguous. Use a.empty, a.bool(), a.item(), a.any() or a.all().",
     "output_type": "error",
     "traceback": [
      "\u001b[0;31m---------------------------------------------------------------------------\u001b[0m",
      "\u001b[0;31mValueError\u001b[0m                                Traceback (most recent call last)",
      "\u001b[0;32m<ipython-input-64-5299ec89bc73>\u001b[0m in \u001b[0;36m<module>\u001b[0;34m\u001b[0m\n\u001b[0;32m----> 1\u001b[0;31m \u001b[0;32mif\u001b[0m\u001b[0;34m(\u001b[0m\u001b[0mdf_old\u001b[0m\u001b[0;34m.\u001b[0m\u001b[0mall\u001b[0m \u001b[0;34m==\u001b[0m \u001b[0mdf\u001b[0m\u001b[0;34m.\u001b[0m\u001b[0mall\u001b[0m\u001b[0;34m)\u001b[0m\u001b[0;34m:\u001b[0m\u001b[0;34m\u001b[0m\u001b[0;34m\u001b[0m\u001b[0m\n\u001b[0m\u001b[1;32m      2\u001b[0m     \u001b[0mprint\u001b[0m\u001b[0;34m(\u001b[0m\u001b[0;34m\"T\"\u001b[0m\u001b[0;34m)\u001b[0m\u001b[0;34m\u001b[0m\u001b[0;34m\u001b[0m\u001b[0m\n\u001b[1;32m      3\u001b[0m \u001b[0;32melse\u001b[0m\u001b[0;34m:\u001b[0m\u001b[0;34m\u001b[0m\u001b[0;34m\u001b[0m\u001b[0m\n\u001b[1;32m      4\u001b[0m     \u001b[0mprint\u001b[0m\u001b[0;34m(\u001b[0m\u001b[0;34m\"F\"\u001b[0m\u001b[0;34m)\u001b[0m\u001b[0;34m\u001b[0m\u001b[0;34m\u001b[0m\u001b[0m\n",
      "\u001b[0;32m~/anaconda3/lib/python3.7/site-packages/pandas/core/generic.py\u001b[0m in \u001b[0;36m__nonzero__\u001b[0;34m(self)\u001b[0m\n\u001b[1;32m   1553\u001b[0m             \u001b[0;34m\"The truth value of a {0} is ambiguous. \"\u001b[0m\u001b[0;34m\u001b[0m\u001b[0;34m\u001b[0m\u001b[0m\n\u001b[1;32m   1554\u001b[0m             \"Use a.empty, a.bool(), a.item(), a.any() or a.all().\".format(\n\u001b[0;32m-> 1555\u001b[0;31m                 \u001b[0mself\u001b[0m\u001b[0;34m.\u001b[0m\u001b[0m__class__\u001b[0m\u001b[0;34m.\u001b[0m\u001b[0m__name__\u001b[0m\u001b[0;34m\u001b[0m\u001b[0;34m\u001b[0m\u001b[0m\n\u001b[0m\u001b[1;32m   1556\u001b[0m             )\n\u001b[1;32m   1557\u001b[0m         )\n",
      "\u001b[0;31mValueError\u001b[0m: The truth value of a DataFrame is ambiguous. Use a.empty, a.bool(), a.item(), a.any() or a.all()."
     ]
    }
   ],
   "source": [
    "if(df_old.all == df.all):\n",
    "    print(\"T\")\n",
    "else:\n",
    "    print(\"F\")"
   ]
  },
  {
   "cell_type": "code",
   "execution_count": 58,
   "metadata": {},
   "outputs": [
    {
     "name": "stdout",
     "output_type": "stream",
     "text": [
      "<bound method DataFrame.all of       id label\n",
      "0    418     1\n",
      "1    419     1\n",
      "2    420     1\n",
      "3    421     1\n",
      "4    422     1\n",
      "..   ...   ...\n",
      "373  791     1\n",
      "374  792     1\n",
      "375  793     1\n",
      "376  794     1\n",
      "377  795     1\n",
      "\n",
      "[378 rows x 2 columns]>\n"
     ]
    }
   ],
   "source": [
    "print(df_old.all)"
   ]
  },
  {
   "cell_type": "code",
   "execution_count": null,
   "metadata": {},
   "outputs": [],
   "source": []
  },
  {
   "cell_type": "code",
   "execution_count": null,
   "metadata": {},
   "outputs": [],
   "source": []
  }
 ],
 "metadata": {
  "kernelspec": {
   "display_name": "Python 3",
   "language": "python",
   "name": "python3"
  },
  "language_info": {
   "codemirror_mode": {
    "name": "ipython",
    "version": 3
   },
   "file_extension": ".py",
   "mimetype": "text/x-python",
   "name": "python",
   "nbconvert_exporter": "python",
   "pygments_lexer": "ipython3",
   "version": "3.7.1"
  }
 },
 "nbformat": 4,
 "nbformat_minor": 2
}
